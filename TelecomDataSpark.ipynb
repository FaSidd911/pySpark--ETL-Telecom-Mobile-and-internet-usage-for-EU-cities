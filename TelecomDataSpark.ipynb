{
 "cells": [
  {
   "cell_type": "code",
   "execution_count": 20,
   "id": "7db0a725",
   "metadata": {},
   "outputs": [],
   "source": [
    "from pyspark.sql import SparkSession\n",
    "from pyspark.sql.functions import col, explode, initcap  # Some functions that later will be useful\n",
    "\n",
    "spark = SparkSession.builder.appName(\"PySparkETLTelecom\").getOrCreate()\n",
    "path = r'C:\\Users\\PC\\Python Programs\\Telecom City Data'"
   ]
  },
  {
   "cell_type": "code",
   "execution_count": 2,
   "id": "053ca192",
   "metadata": {},
   "outputs": [],
   "source": [
    "censusDF = spark.read.load(r'C:\\Users\\PC\\Python Programs\\Telecom City Data\\ISTAT_census_variables_2011.csv'\n",
    "                           ,format='csv',\n",
    "                            sep = ',',\n",
    "                           header='true',\n",
    "                           inferschema='true').cache()"
   ]
  },
  {
   "cell_type": "code",
   "execution_count": 3,
   "id": "7439ec87",
   "metadata": {},
   "outputs": [
    {
     "name": "stderr",
     "output_type": "stream",
     "text": [
      "c:\\users\\pc\\appdata\\local\\programs\\python\\python37-32\\lib\\site-packages\\pyspark\\sql\\pandas\\conversion.py:186: PerformanceWarning: DataFrame is highly fragmented.  This is usually the result of calling `frame.insert` many times, which has poor performance.  Consider using pd.concat instead.  To get a de-fragmented frame, use `newframe = frame.copy()`\n",
      "  df[column_name] = series\n"
     ]
    },
    {
     "data": {
      "text/html": [
       "<div>\n",
       "<style scoped>\n",
       "    .dataframe tbody tr th:only-of-type {\n",
       "        vertical-align: middle;\n",
       "    }\n",
       "\n",
       "    .dataframe tbody tr th {\n",
       "        vertical-align: top;\n",
       "    }\n",
       "\n",
       "    .dataframe thead th {\n",
       "        text-align: right;\n",
       "    }\n",
       "</style>\n",
       "<table border=\"1\" class=\"dataframe\">\n",
       "  <thead>\n",
       "    <tr style=\"text-align: right;\">\n",
       "      <th></th>\n",
       "      <th>PROVINCIA</th>\n",
       "      <th>P1</th>\n",
       "      <th>P2</th>\n",
       "      <th>P3</th>\n",
       "      <th>P4</th>\n",
       "      <th>P5</th>\n",
       "      <th>P6</th>\n",
       "      <th>P7</th>\n",
       "      <th>P8</th>\n",
       "      <th>P9</th>\n",
       "      <th>...</th>\n",
       "      <th>E18</th>\n",
       "      <th>E19</th>\n",
       "      <th>E20</th>\n",
       "      <th>E21</th>\n",
       "      <th>E22</th>\n",
       "      <th>E23</th>\n",
       "      <th>E24</th>\n",
       "      <th>E25</th>\n",
       "      <th>E26</th>\n",
       "      <th>E27</th>\n",
       "    </tr>\n",
       "  </thead>\n",
       "  <tbody>\n",
       "    <tr>\n",
       "      <th>0</th>\n",
       "      <td>Alessandria</td>\n",
       "      <td>427229</td>\n",
       "      <td>204983</td>\n",
       "      <td>222246</td>\n",
       "      <td>158222</td>\n",
       "      <td>198253</td>\n",
       "      <td>11481</td>\n",
       "      <td>44582</td>\n",
       "      <td>14691</td>\n",
       "      <td>85839</td>\n",
       "      <td>...</td>\n",
       "      <td>82121</td>\n",
       "      <td>27855</td>\n",
       "      <td>7197</td>\n",
       "      <td>84634</td>\n",
       "      <td>23155</td>\n",
       "      <td>10813</td>\n",
       "      <td>5564</td>\n",
       "      <td>2523</td>\n",
       "      <td>1896</td>\n",
       "      <td>280402</td>\n",
       "    </tr>\n",
       "    <tr>\n",
       "      <th>1</th>\n",
       "      <td>Asti</td>\n",
       "      <td>217573</td>\n",
       "      <td>105370</td>\n",
       "      <td>112203</td>\n",
       "      <td>82119</td>\n",
       "      <td>102538</td>\n",
       "      <td>5404</td>\n",
       "      <td>20767</td>\n",
       "      <td>6745</td>\n",
       "      <td>44773</td>\n",
       "      <td>...</td>\n",
       "      <td>49604</td>\n",
       "      <td>11716</td>\n",
       "      <td>3039</td>\n",
       "      <td>48074</td>\n",
       "      <td>12510</td>\n",
       "      <td>4775</td>\n",
       "      <td>2083</td>\n",
       "      <td>1194</td>\n",
       "      <td>786</td>\n",
       "      <td>134452</td>\n",
       "    </tr>\n",
       "    <tr>\n",
       "      <th>2</th>\n",
       "      <td>Biella</td>\n",
       "      <td>182192</td>\n",
       "      <td>86821</td>\n",
       "      <td>95371</td>\n",
       "      <td>69188</td>\n",
       "      <td>82431</td>\n",
       "      <td>5266</td>\n",
       "      <td>18474</td>\n",
       "      <td>6833</td>\n",
       "      <td>37017</td>\n",
       "      <td>...</td>\n",
       "      <td>25523</td>\n",
       "      <td>19595</td>\n",
       "      <td>5795</td>\n",
       "      <td>35030</td>\n",
       "      <td>11310</td>\n",
       "      <td>4776</td>\n",
       "      <td>2066</td>\n",
       "      <td>974</td>\n",
       "      <td>581</td>\n",
       "      <td>112204</td>\n",
       "    </tr>\n",
       "    <tr>\n",
       "      <th>3</th>\n",
       "      <td>Cuneo</td>\n",
       "      <td>586378</td>\n",
       "      <td>287786</td>\n",
       "      <td>298592</td>\n",
       "      <td>231452</td>\n",
       "      <td>276983</td>\n",
       "      <td>12473</td>\n",
       "      <td>49417</td>\n",
       "      <td>16053</td>\n",
       "      <td>127243</td>\n",
       "      <td>...</td>\n",
       "      <td>113200</td>\n",
       "      <td>43780</td>\n",
       "      <td>10393</td>\n",
       "      <td>106446</td>\n",
       "      <td>41341</td>\n",
       "      <td>18356</td>\n",
       "      <td>8181</td>\n",
       "      <td>3449</td>\n",
       "      <td>2278</td>\n",
       "      <td>402507</td>\n",
       "    </tr>\n",
       "    <tr>\n",
       "      <th>4</th>\n",
       "      <td>Novara</td>\n",
       "      <td>365559</td>\n",
       "      <td>176361</td>\n",
       "      <td>189198</td>\n",
       "      <td>143302</td>\n",
       "      <td>170741</td>\n",
       "      <td>9351</td>\n",
       "      <td>31811</td>\n",
       "      <td>10354</td>\n",
       "      <td>76929</td>\n",
       "      <td>...</td>\n",
       "      <td>40028</td>\n",
       "      <td>25384</td>\n",
       "      <td>5773</td>\n",
       "      <td>39561</td>\n",
       "      <td>22413</td>\n",
       "      <td>10224</td>\n",
       "      <td>4404</td>\n",
       "      <td>2272</td>\n",
       "      <td>1148</td>\n",
       "      <td>199727</td>\n",
       "    </tr>\n",
       "  </tbody>\n",
       "</table>\n",
       "<p>5 rows × 135 columns</p>\n",
       "</div>"
      ],
      "text/plain": [
       "     PROVINCIA      P1      P2      P3      P4      P5     P6     P7     P8  \\\n",
       "0  Alessandria  427229  204983  222246  158222  198253  11481  44582  14691   \n",
       "1         Asti  217573  105370  112203   82119  102538   5404  20767   6745   \n",
       "2       Biella  182192   86821   95371   69188   82431   5266  18474   6833   \n",
       "3        Cuneo  586378  287786  298592  231452  276983  12473  49417  16053   \n",
       "4       Novara  365559  176361  189198  143302  170741   9351  31811  10354   \n",
       "\n",
       "       P9  ...     E18    E19    E20     E21    E22    E23   E24   E25   E26  \\\n",
       "0   85839  ...   82121  27855   7197   84634  23155  10813  5564  2523  1896   \n",
       "1   44773  ...   49604  11716   3039   48074  12510   4775  2083  1194   786   \n",
       "2   37017  ...   25523  19595   5795   35030  11310   4776  2066   974   581   \n",
       "3  127243  ...  113200  43780  10393  106446  41341  18356  8181  3449  2278   \n",
       "4   76929  ...   40028  25384   5773   39561  22413  10224  4404  2272  1148   \n",
       "\n",
       "      E27  \n",
       "0  280402  \n",
       "1  134452  \n",
       "2  112204  \n",
       "3  402507  \n",
       "4  199727  \n",
       "\n",
       "[5 rows x 135 columns]"
      ]
     },
     "execution_count": 3,
     "metadata": {},
     "output_type": "execute_result"
    }
   ],
   "source": [
    "censusDF.limit(5).toPandas()"
   ]
  },
  {
   "cell_type": "code",
   "execution_count": 4,
   "id": "30cd7803",
   "metadata": {},
   "outputs": [
    {
     "data": {
      "text/plain": [
       "110"
      ]
     },
     "execution_count": 4,
     "metadata": {},
     "output_type": "execute_result"
    }
   ],
   "source": [
    "censusDF.count()"
   ]
  },
  {
   "cell_type": "code",
   "execution_count": 5,
   "id": "12f30f7c",
   "metadata": {},
   "outputs": [],
   "source": [
    "censusDF = censusDF.select('PROVINCIA')"
   ]
  },
  {
   "cell_type": "code",
   "execution_count": 6,
   "id": "17129bb8",
   "metadata": {},
   "outputs": [],
   "source": [
    "censusDF.createOrReplaceTempView('census')"
   ]
  },
  {
   "cell_type": "code",
   "execution_count": 7,
   "id": "34e1fb60",
   "metadata": {},
   "outputs": [
    {
     "name": "stdout",
     "output_type": "stream",
     "text": [
      "+-----------+\n",
      "|  PROVINCIA|\n",
      "+-----------+\n",
      "|Alessandria|\n",
      "|       Asti|\n",
      "|     Biella|\n",
      "|      Cuneo|\n",
      "|     Novara|\n",
      "+-----------+\n",
      "\n"
     ]
    }
   ],
   "source": [
    "spark.sql('select * from census').limit(5).show()"
   ]
  },
  {
   "cell_type": "code",
   "execution_count": 8,
   "id": "557a14c6",
   "metadata": {},
   "outputs": [],
   "source": [
    "provincesDF = spark.read.load(r\"C:\\Users\\PC\\Python Programs\\Telecom City Data/Italian_provinces.geojson\",\n",
    "                    format='json',\n",
    "                    multiline=True,\n",
    "                    inferSchema='true').cache()"
   ]
  },
  {
   "cell_type": "code",
   "execution_count": 9,
   "id": "41bbe491",
   "metadata": {},
   "outputs": [
    {
     "data": {
      "text/html": [
       "<div>\n",
       "<style scoped>\n",
       "    .dataframe tbody tr th:only-of-type {\n",
       "        vertical-align: middle;\n",
       "    }\n",
       "\n",
       "    .dataframe tbody tr th {\n",
       "        vertical-align: top;\n",
       "    }\n",
       "\n",
       "    .dataframe thead th {\n",
       "        text-align: right;\n",
       "    }\n",
       "</style>\n",
       "<table border=\"1\" class=\"dataframe\">\n",
       "  <thead>\n",
       "    <tr style=\"text-align: right;\">\n",
       "      <th></th>\n",
       "      <th>crs</th>\n",
       "      <th>features</th>\n",
       "      <th>type</th>\n",
       "    </tr>\n",
       "  </thead>\n",
       "  <tbody>\n",
       "    <tr>\n",
       "      <th>0</th>\n",
       "      <td>((urn:ogc:def:crs:EPSG::32632,), name)</td>\n",
       "      <td>[(([[[[460929.5408985989, 5076320.296951921], ...</td>\n",
       "      <td>FeatureCollection</td>\n",
       "    </tr>\n",
       "  </tbody>\n",
       "</table>\n",
       "</div>"
      ],
      "text/plain": [
       "                                      crs  \\\n",
       "0  ((urn:ogc:def:crs:EPSG::32632,), name)   \n",
       "\n",
       "                                            features               type  \n",
       "0  [(([[[[460929.5408985989, 5076320.296951921], ...  FeatureCollection  "
      ]
     },
     "execution_count": 9,
     "metadata": {},
     "output_type": "execute_result"
    }
   ],
   "source": [
    "provincesDF.limit(5).toPandas()"
   ]
  },
  {
   "cell_type": "code",
   "execution_count": 10,
   "id": "6cf7a0e1",
   "metadata": {},
   "outputs": [
    {
     "name": "stdout",
     "output_type": "stream",
     "text": [
      "root\n",
      " |-- crs: struct (nullable = true)\n",
      " |    |-- properties: struct (nullable = true)\n",
      " |    |    |-- name: string (nullable = true)\n",
      " |    |-- type: string (nullable = true)\n",
      " |-- features: array (nullable = true)\n",
      " |    |-- element: struct (containsNull = true)\n",
      " |    |    |-- geometry: struct (nullable = true)\n",
      " |    |    |    |-- coordinates: array (nullable = true)\n",
      " |    |    |    |    |-- element: array (containsNull = true)\n",
      " |    |    |    |    |    |-- element: array (containsNull = true)\n",
      " |    |    |    |    |    |    |-- element: array (containsNull = true)\n",
      " |    |    |    |    |    |    |    |-- element: double (containsNull = true)\n",
      " |    |    |    |-- type: string (nullable = true)\n",
      " |    |    |-- properties: struct (nullable = true)\n",
      " |    |    |    |-- PROVINCIA: string (nullable = true)\n",
      " |    |    |    |-- SHAPE_AREA: double (nullable = true)\n",
      " |    |    |    |-- SIGLA: string (nullable = true)\n",
      " |    |    |-- type: string (nullable = true)\n",
      " |-- type: string (nullable = true)\n",
      "\n"
     ]
    }
   ],
   "source": [
    "provincesDF.printSchema()"
   ]
  },
  {
   "cell_type": "code",
   "execution_count": 11,
   "id": "26aea3cf",
   "metadata": {},
   "outputs": [],
   "source": [
    "provincesDF = provincesDF.select('features.properties.PROVINCIA')"
   ]
  },
  {
   "cell_type": "code",
   "execution_count": 12,
   "id": "2a0eafc4",
   "metadata": {},
   "outputs": [],
   "source": [
    "provincesDF = provincesDF.select(explode('PROVINCIA')).withColumnRenamed('col','PROVINCIA')"
   ]
  },
  {
   "cell_type": "code",
   "execution_count": 14,
   "id": "8ca48c94",
   "metadata": {},
   "outputs": [
    {
     "name": "stdout",
     "output_type": "stream",
     "text": [
      "+-----------+\n",
      "|  PROVINCIA|\n",
      "+-----------+\n",
      "|     Novara|\n",
      "|     Torino|\n",
      "|   Vercelli|\n",
      "|      Aosta|\n",
      "|Alessandria|\n",
      "+-----------+\n",
      "only showing top 5 rows\n",
      "\n"
     ]
    }
   ],
   "source": [
    "provincesDF.show(5)"
   ]
  },
  {
   "cell_type": "code",
   "execution_count": 15,
   "id": "1aa1fc03",
   "metadata": {},
   "outputs": [],
   "source": [
    "provincesDF.createOrReplaceTempView(\"provinces\")"
   ]
  },
  {
   "cell_type": "code",
   "execution_count": 16,
   "id": "70ce9d7d",
   "metadata": {},
   "outputs": [
    {
     "name": "stdout",
     "output_type": "stream",
     "text": [
      "+----------------------------+-------------+\n",
      "|census                      |provinces    |\n",
      "+----------------------------+-------------+\n",
      "|Bolzano/Bozen               |null         |\n",
      "|null                        |Forli'-Cesena|\n",
      "|Massa-Carrara               |null         |\n",
      "|Forlì-Cesena                |null         |\n",
      "|Valle d'Aosta/Vallée d'Aoste|null         |\n",
      "|null                        |Bolzano      |\n",
      "|null                        |Aosta        |\n",
      "|null                        |Massa Carrara|\n",
      "+----------------------------+-------------+\n",
      "\n"
     ]
    }
   ],
   "source": [
    "\n",
    "spark.sql(\"\"\"select c.PROVINCIA as census, p.PROVINCIA as provinces from\n",
    "                (select distinct PROVINCIA from census) c \n",
    "                    full outer join \n",
    "                (select distinct PROVINCIA from provinces) p\n",
    "                    on c.PROVINCIA = p.PROVINCIA\n",
    "                where c.PROVINCIA is null or p.PROVINCIA is null\n",
    "            \"\"\").show(truncate=False)"
   ]
  },
  {
   "cell_type": "code",
   "execution_count": 17,
   "id": "2507a647",
   "metadata": {},
   "outputs": [
    {
     "name": "stdout",
     "output_type": "stream",
     "text": [
      "False\n",
      "+--------+---------+-----------+\n",
      "|database|tableName|isTemporary|\n",
      "+--------+---------+-----------+\n",
      "|        |provinces|       true|\n",
      "+--------+---------+-----------+\n",
      "\n"
     ]
    }
   ],
   "source": [
    "censusDF.unpersist()\n",
    "print(censusDF.is_cached)\n",
    "\n",
    "# Temporal view\n",
    "spark.catalog.dropTempView(\"census\")\n",
    "spark.sql(\"show tables\").show()"
   ]
  },
  {
   "cell_type": "code",
   "execution_count": 21,
   "id": "e42244d2",
   "metadata": {},
   "outputs": [],
   "source": [
    "mitoprovincesDF = spark.read.load(path + r\"/mi-to-provinces-*.csv\",\n",
    "                    format='csv',\n",
    "                    sep = ',',\n",
    "                    header='true',\n",
    "                    inferSchema='true').cache()"
   ]
  },
  {
   "cell_type": "code",
   "execution_count": 22,
   "id": "8d6fa3a9",
   "metadata": {},
   "outputs": [
    {
     "data": {
      "text/plain": [
       "20047463"
      ]
     },
     "execution_count": 22,
     "metadata": {},
     "output_type": "execute_result"
    }
   ],
   "source": [
    "mitoprovincesDF.count()"
   ]
  },
  {
   "cell_type": "code",
   "execution_count": 23,
   "id": "ba50ae2f",
   "metadata": {},
   "outputs": [
    {
     "name": "stdout",
     "output_type": "stream",
     "text": [
      "+-------------------+------+------------+-------------+-------------+\n",
      "|           datetime|CellID|provinceName|cell2Province|Province2cell|\n",
      "+-------------------+------+------------+-------------+-------------+\n",
      "|2013-11-04 00:00:00|     1|      MILANO|       0.0018|         null|\n",
      "|2013-11-04 00:00:00|     1|      NAPOLI|         null|       0.0261|\n",
      "|2013-11-04 00:00:00|     2|      MILANO|       9.0E-4|         null|\n",
      "|2013-11-04 00:00:00|     2|      NAPOLI|         null|       0.0274|\n",
      "|2013-11-04 00:00:00|     3|      NAPOLI|         null|       0.0287|\n",
      "+-------------------+------+------------+-------------+-------------+\n",
      "only showing top 5 rows\n",
      "\n"
     ]
    }
   ],
   "source": [
    "mitoprovincesDF.show(5)"
   ]
  },
  {
   "cell_type": "code",
   "execution_count": 24,
   "id": "9456f145",
   "metadata": {},
   "outputs": [
    {
     "name": "stdout",
     "output_type": "stream",
     "text": [
      "+-------------------+------+------------+-------------+-------------+\n",
      "|           datetime|CellID|provinceName|cell2Province|Province2cell|\n",
      "+-------------------+------+------------+-------------+-------------+\n",
      "|2013-11-04 00:00:00|     1|      Milano|       0.0018|         null|\n",
      "|2013-11-04 00:00:00|     1|      Napoli|         null|       0.0261|\n",
      "|2013-11-04 00:00:00|     2|      Milano|       9.0E-4|         null|\n",
      "+-------------------+------+------------+-------------+-------------+\n",
      "only showing top 3 rows\n",
      "\n"
     ]
    }
   ],
   "source": [
    "mitoprovincesDF = mitoprovincesDF.withColumn(\"provinceName\", initcap(mitoprovincesDF.provinceName))\n",
    "mitoprovincesDF.show(3)"
   ]
  },
  {
   "cell_type": "code",
   "execution_count": 25,
   "id": "32fc1d5e",
   "metadata": {},
   "outputs": [],
   "source": [
    "mitoprovincesDF.createOrReplaceTempView(\"mitoprovinces\")"
   ]
  },
  {
   "cell_type": "code",
   "execution_count": 26,
   "id": "74b6ae1f",
   "metadata": {},
   "outputs": [],
   "source": [
    "\n",
    "cdrDF = spark.read.load(path + r\"/sms-call-internet-mi-*.csv\",\n",
    "                    format='csv',\n",
    "                    sep = ',',\n",
    "                    header='true',\n",
    "                    inferSchema='true').cache()"
   ]
  },
  {
   "cell_type": "code",
   "execution_count": 27,
   "id": "ae895c03",
   "metadata": {},
   "outputs": [
    {
     "name": "stdout",
     "output_type": "stream",
     "text": [
      "+-------------------+------+-----------+------+------+------+-------+--------+\n",
      "|           datetime|CellID|countrycode| smsin|smsout|callin|callout|internet|\n",
      "+-------------------+------+-----------+------+------+------+-------+--------+\n",
      "|2013-11-06 00:00:00|     1|          0|0.0814|  null|  null|   null|    null|\n",
      "|2013-11-06 00:00:00|     1|         39|0.7458|0.7204|0.1626| 0.1057| 52.3219|\n",
      "|2013-11-06 00:00:00|     2|          0|0.0829|  null|  null|   null|    null|\n",
      "|2013-11-06 00:00:00|     2|         39|0.7653|0.7409|0.1639| 0.1094| 52.4064|\n",
      "|2013-11-06 00:00:00|     3|          0|0.0846|  null|  null|   null|    null|\n",
      "+-------------------+------+-----------+------+------+------+-------+--------+\n",
      "only showing top 5 rows\n",
      "\n"
     ]
    }
   ],
   "source": [
    "cdrDF.show(5)"
   ]
  },
  {
   "cell_type": "code",
   "execution_count": 28,
   "id": "853ae5fb",
   "metadata": {},
   "outputs": [],
   "source": [
    "cdrDF = cdrDF.na.fill(0)"
   ]
  },
  {
   "cell_type": "code",
   "execution_count": 29,
   "id": "45b055d6",
   "metadata": {},
   "outputs": [],
   "source": [
    "cdrDF.createOrReplaceTempView(\"cdr\")"
   ]
  },
  {
   "cell_type": "code",
   "execution_count": null,
   "id": "d5703d74",
   "metadata": {},
   "outputs": [],
   "source": []
  },
  {
   "cell_type": "code",
   "execution_count": 30,
   "id": "476cdc73",
   "metadata": {},
   "outputs": [
    {
     "name": "stdout",
     "output_type": "stream",
     "text": [
      "+--------+-------------+-----------+\n",
      "|database|    tableName|isTemporary|\n",
      "+--------+-------------+-----------+\n",
      "|        |          cdr|       true|\n",
      "|        |mitoprovinces|       true|\n",
      "|        |    provinces|       true|\n",
      "+--------+-------------+-----------+\n",
      "\n"
     ]
    }
   ],
   "source": [
    "spark.sql(\"show tables\").show()"
   ]
  },
  {
   "cell_type": "code",
   "execution_count": 31,
   "id": "f779bda4",
   "metadata": {},
   "outputs": [],
   "source": [
    "aggcountryDF = spark.sql(\"\"\"select \n",
    "                                CASE countrycode\n",
    "                                    WHEN 7 THEN \"Russia\"\n",
    "                                    WHEN 33 THEN \"France\"\n",
    "                                    WHEN 34 THEN \"Spain\"\n",
    "                                    WHEN 39 THEN \"Italy\"\n",
    "                                    WHEN 44 THEN \"United Kingdom\"\n",
    "                                    WHEN 47 THEN \"Norway\"\n",
    "                                    WHEN 48 THEN \"Poland\"\n",
    "                                    WHEN 49 THEN \"Germany\"\n",
    "                                    WHEN 351 THEN \"Portugal\"\n",
    "                                    WHEN 420 THEN \"Czech Republic\"\n",
    "                                    ELSE \"_Others_\"\n",
    "                                END as country,\n",
    "                                round(sum(smsin),6) smsin, \n",
    "                                round(sum(smsout),6) smsout, \n",
    "                                round(sum(callin),6) callin, \n",
    "                                round(sum(callout),6) callout, \n",
    "                                round(sum(internet),6) internet\n",
    "                            from cdr\n",
    "                            where countrycode != 0\n",
    "                            group by country\n",
    "                            order by 1\n",
    "                            \"\"\")"
   ]
  },
  {
   "cell_type": "code",
   "execution_count": 32,
   "id": "08c938f3",
   "metadata": {},
   "outputs": [
    {
     "name": "stdout",
     "output_type": "stream",
     "text": [
      "+--------------+---------------+---------------+---------------+---------------+------------------+\n",
      "|       country|          smsin|         smsout|         callin|        callout|          internet|\n",
      "+--------------+---------------+---------------+---------------+---------------+------------------+\n",
      "|Czech Republic|     23707.4905|     13755.0621|      6560.9575|      4612.1064|        27057.8446|\n",
      "|        France|     134045.724|     89066.3494|     54388.1101|      37023.644|       306821.5801|\n",
      "|       Germany|     61385.0661|     21897.0994|      25773.665|     20590.2693|        216630.689|\n",
      "|         Italy|3.07346989943E7|2.46252649659E7|2.95413575959E7|3.28579802243E7|6.85437859768893E8|\n",
      "|        Norway|       6067.963|      4707.1067|       2238.971|      2320.2161|        14337.4235|\n",
      "|        Poland|       41015.28|      21470.529|     15806.5298|     10938.0209|        51300.7408|\n",
      "|      Portugal|       6670.289|      4027.8277|      4272.9558|      3585.9402|        14316.2007|\n",
      "|        Russia|     64277.4469|     45990.8195|     32864.4163|     13375.1315|        44637.8223|\n",
      "|         Spain|      22740.647|     12657.9102|     32445.6776|     19332.6184|       139014.9648|\n",
      "|United Kingdom|    109972.8099|    122010.4236|     40368.8928|     31323.7553|       252792.2512|\n",
      "|      _Others_|     725169.288|    311724.2068|    348573.3748|   1098461.4262|      1110859.1921|\n",
      "+--------------+---------------+---------------+---------------+---------------+------------------+\n",
      "\n"
     ]
    }
   ],
   "source": [
    "aggcountryDF.show()"
   ]
  },
  {
   "cell_type": "code",
   "execution_count": 33,
   "id": "e8fcc269",
   "metadata": {},
   "outputs": [],
   "source": [
    "import matplotlib.pyplot as plt\n",
    "import numpy as np"
   ]
  },
  {
   "cell_type": "code",
   "execution_count": 39,
   "id": "ffc5b77a",
   "metadata": {},
   "outputs": [],
   "source": [
    "plotDF = aggcountryDF.where(\"country not in ('Italy','_Others_')\").toPandas()"
   ]
  },
  {
   "cell_type": "code",
   "execution_count": 40,
   "id": "5b84fa36",
   "metadata": {},
   "outputs": [
    {
     "data": {
      "text/plain": [
       "<AxesSubplot:ylabel='country'>"
      ]
     },
     "execution_count": 40,
     "metadata": {},
     "output_type": "execute_result"
    },
    {
     "data": {
      "image/png": "[encoded data removed]",
      "text/plain": [
       "<Figure size 432x288 with 1 Axes>"
      ]
     },
     "metadata": {
      "needs_background": "light"
     },
     "output_type": "display_data"
    },
    {
     "data": {
      "image/png": "[encoded data removed]",
      "text/plain": [
       "<Figure size 432x288 with 1 Axes>"
      ]
     },
     "metadata": {
      "needs_background": "light"
     },
     "output_type": "display_data"
    },
    {
     "data": {
      "image/png": "[encoded data removed]",
      "text/plain": [
       "<Figure size 432x288 with 1 Axes>"
      ]
     },
     "metadata": {
      "needs_background": "light"
     },
     "output_type": "display_data"
    }
   ],
   "source": [
    "plotDF.plot(kind='barh', x='country', y=['smsin', 'smsout'], colormap='tab20b')\n",
    "plotDF.plot(kind='barh', x='country', y=['callin', 'callout'], colormap='tab10')\n",
    "plotDF.plot(kind='barh', x='country', y=['internet'], colormap='summer')"
   ]
  },
  {
   "cell_type": "code",
   "execution_count": null,
   "id": "0f1a2ae7",
   "metadata": {},
   "outputs": [],
   "source": []
  },
  {
   "cell_type": "code",
   "execution_count": null,
   "id": "7b7896a2",
   "metadata": {},
   "outputs": [],
   "source": []
  },
  {
   "cell_type": "code",
   "execution_count": null,
   "id": "71d151d3",
   "metadata": {},
   "outputs": [],
   "source": []
  },
  {
   "cell_type": "code",
   "execution_count": null,
   "id": "63d8d8e5",
   "metadata": {},
   "outputs": [],
   "source": []
  },
  {
   "cell_type": "code",
   "execution_count": null,
   "id": "d9a29b1c",
   "metadata": {},
   "outputs": [],
   "source": []
  }
 ],
 "metadata": {
  "kernelspec": {
   "display_name": "Python 3 (ipykernel)",
   "language": "python",
   "name": "python3"
  },
  "language_info": {
   "codemirror_mode": {
    "name": "ipython",
    "version": 3
   },
   "file_extension": ".py",
   "mimetype": "text/x-python",
   "name": "python",
   "nbconvert_exporter": "python",
   "pygments_lexer": "ipython3",
   "version": "3.7.6"
  }
 },
 "nbformat": 4,
 "nbformat_minor": 5
}
